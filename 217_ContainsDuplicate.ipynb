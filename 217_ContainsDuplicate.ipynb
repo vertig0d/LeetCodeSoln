{
  "nbformat": 4,
  "nbformat_minor": 0,
  "metadata": {
    "colab": {
      "provenance": [],
      "authorship_tag": "ABX9TyOgCG52wfeW6AacViSJMsEF",
      "include_colab_link": true
    },
    "kernelspec": {
      "name": "python3",
      "display_name": "Python 3"
    },
    "language_info": {
      "name": "python"
    }
  },
  "cells": [
    {
      "cell_type": "markdown",
      "metadata": {
        "id": "view-in-github",
        "colab_type": "text"
      },
      "source": [
        "<a href=\"https://colab.research.google.com/github/vertig0d/LeetCodeSoln/blob/master/217_ContainsDuplicate.ipynb\" target=\"_parent\"><img src=\"https://colab.research.google.com/assets/colab-badge.svg\" alt=\"Open In Colab\"/></a>"
      ]
    },
    {
      "cell_type": "markdown",
      "source": [
        "Given an integer array nums, return true if any value appears at least twice in the array, and return false if every element is distinct.\n",
        "\n",
        "\n",
        "\n",
        "Example 1:\n",
        "\n",
        "Input: nums = [1,2,3,1]\n",
        "\n",
        "Output: true\n",
        "\n",
        "Explanation:\n",
        "\n",
        "The element 1 occurs at the indices 0 and 3.\n",
        "\n",
        "Example 2:\n",
        "\n",
        "Input: nums = [1,2,3,4]\n",
        "\n",
        "Output: false\n",
        "\n",
        "Explanation:\n",
        "\n",
        "All elements are distinct.\n",
        "\n",
        "Example 3:\n",
        "\n",
        "Input: nums = [1,1,1,3,3,4,3,2,4,2]\n",
        "\n",
        "Output: true\n",
        "\n",
        "\n",
        "\n",
        "Constraints:\n",
        "\n",
        "1 <= nums.length <= 10^5\n",
        "-10^9 <= nums[i] <= 10^9"
      ],
      "metadata": {
        "id": "YSqptaEt7MnS"
      }
    },
    {
      "cell_type": "markdown",
      "source": [
        "Original Approach"
      ],
      "metadata": {
        "id": "ltXwqliZF08i"
      }
    },
    {
      "cell_type": "code",
      "execution_count": 2,
      "metadata": {
        "id": "uwD0nsf7BQqA",
        "outputId": "abc48692-5d99-4c59-ec16-8147ab8c6938",
        "colab": {
          "base_uri": "https://localhost:8080/"
        }
      },
      "outputs": [
        {
          "output_type": "stream",
          "name": "stdout",
          "text": [
            "True\n",
            "False\n"
          ]
        }
      ],
      "source": [
        "def containsDuplicate(nums):\n",
        "      dic = {}\n",
        "      for i, v in enumerate(nums):\n",
        "        if v in dic:\n",
        "          return True\n",
        "        else:\n",
        "          dic[v] = i\n",
        "      return False\n",
        "\n",
        "a = [1,2,3,1]\n",
        "print(containsDuplicate(a))\n",
        "a = [1,2,3,4]\n",
        "print(containsDuplicate(a))"
      ]
    },
    {
      "cell_type": "markdown",
      "source": [
        "Fast and Clever approach"
      ],
      "metadata": {
        "id": "T4YIUorGFrTk"
      }
    },
    {
      "cell_type": "code",
      "source": [
        "def containsDupe(nums):\n",
        "  return len(nums) != len(set(nums))\n",
        "\n",
        "a = [1,2,3,1]\n",
        "print(containsDupe(a))\n",
        "a = [1,2,3,4]\n",
        "print(containsDupe(a))"
      ],
      "metadata": {
        "id": "HGPze0lQFFet",
        "outputId": "56cbcfae-40e9-4383-c758-b157351eaca9",
        "colab": {
          "base_uri": "https://localhost:8080/"
        }
      },
      "execution_count": 4,
      "outputs": [
        {
          "output_type": "stream",
          "name": "stdout",
          "text": [
            "True\n",
            "False\n"
          ]
        }
      ]
    }
  ]
}