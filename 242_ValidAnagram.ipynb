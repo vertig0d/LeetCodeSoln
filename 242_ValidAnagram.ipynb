{
  "nbformat": 4,
  "nbformat_minor": 0,
  "metadata": {
    "colab": {
      "provenance": [],
      "authorship_tag": "ABX9TyNQ6Orw9U1irpBtNEXC21Ey",
      "include_colab_link": true
    },
    "kernelspec": {
      "name": "python3",
      "display_name": "Python 3"
    },
    "language_info": {
      "name": "python"
    }
  },
  "cells": [
    {
      "cell_type": "markdown",
      "metadata": {
        "id": "view-in-github",
        "colab_type": "text"
      },
      "source": [
        "<a href=\"https://colab.research.google.com/github/vertig0d/LeetCodeSoln/blob/master/242_ValidAnagram.ipynb\" target=\"_parent\"><img src=\"https://colab.research.google.com/assets/colab-badge.svg\" alt=\"Open In Colab\"/></a>"
      ]
    },
    {
      "cell_type": "markdown",
      "source": [
        "Given two strings s and t, return true if t is an anagram of s, and false otherwise.\n",
        "\n",
        "\n",
        "\n",
        "Example 1:\n",
        "\n",
        "Input: s = \"anagram\", t = \"nagaram\"\n",
        "\n",
        "Output: true\n",
        "\n",
        "Example 2:\n",
        "\n",
        "Input: s = \"rat\", t = \"car\"\n",
        "\n",
        "Output: false\n",
        "\n",
        "\n",
        "\n",
        "Constraints:\n",
        "\n",
        "1 <= s.length, t.length <= 5 * 104\n",
        "s and t consist of lowercase English letters.\n",
        "\n",
        "\n",
        "Follow up: What if the inputs contain Unicode characters? How would you adapt your solution to such a case?"
      ],
      "metadata": {
        "id": "g4P4WCSEHSjY"
      }
    },
    {
      "cell_type": "code",
      "execution_count": 6,
      "metadata": {
        "id": "uwD0nsf7BQqA",
        "outputId": "4c03f445-dc91-4021-d863-8376ffbbd484",
        "colab": {
          "base_uri": "https://localhost:8080/"
        }
      },
      "outputs": [
        {
          "output_type": "stream",
          "name": "stdout",
          "text": [
            "True\n"
          ]
        }
      ],
      "source": [
        "def isAnagram(s, t):\n",
        "  return sorted(s[:]) == sorted(t[:])\n",
        "\n",
        "s = \"anagram\"\n",
        "t = \"nagaram\"\n",
        "print(isAnagram(s,t))"
      ]
    },
    {
      "cell_type": "code",
      "source": [
        "from collections import Counter\n",
        "def isAnagram_quick(s,t):\n",
        "  s_count = Counter(s)\n",
        "  t_count = Counter(t)\n",
        "  return s_count == t_count\n",
        "\n",
        "s = \"anagram\"\n",
        "t = \"nagaram\"\n",
        "print(isAnagram_quick(s,t))"
      ],
      "metadata": {
        "id": "qQ81jH3FHodP",
        "outputId": "47ff71c5-d949-4fe5-e8f6-48c45854269b",
        "colab": {
          "base_uri": "https://localhost:8080/"
        }
      },
      "execution_count": 9,
      "outputs": [
        {
          "output_type": "stream",
          "name": "stdout",
          "text": [
            "True\n"
          ]
        }
      ]
    }
  ]
}