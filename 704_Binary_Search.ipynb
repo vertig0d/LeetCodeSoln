{
  "cells": [
    {
      "cell_type": "markdown",
      "metadata": {
        "id": "view-in-github",
        "colab_type": "text"
      },
      "source": [
        "<a href=\"https://colab.research.google.com/github/vertig0d/LeetCodeSoln/blob/master/704_Binary_Search.ipynb\" target=\"_parent\"><img src=\"https://colab.research.google.com/assets/colab-badge.svg\" alt=\"Open In Colab\"/></a>"
      ]
    },
    {
      "cell_type": "markdown",
      "source": [
        "Given an array of integers nums which is sorted in ascending order, and an integer target, write a function to search target in nums. If target exists, then return its index. Otherwise, return -1.\n",
        "\n",
        "You must write an algorithm with O(log n) runtime complexity.\n",
        "\n",
        "\n",
        "\n",
        "Example 1:\n",
        "\n",
        "Input: nums = [-1,0,3,5,9,12], target = 9\n",
        "\n",
        "Output: 4\n",
        "\n",
        "Explanation: 9 exists in nums and its index is 4\n",
        "\n",
        "Example 2:\n",
        "\n",
        "Input: nums = [-1,0,3,5,9,12], target = 2\n",
        "\n",
        "Output: -1\n",
        "\n",
        "Explanation: 2 does not exist in nums so return -1\n",
        "\n",
        "\n",
        "Constraints:\n",
        "\n",
        "1 <= nums.length <= 104\n",
        "-104 < nums[i], target < 104\n",
        "All the integers in nums are unique.\n",
        "nums is sorted in ascending order."
      ],
      "metadata": {
        "id": "t5ReX188r8h5"
      }
    },
    {
      "cell_type": "code",
      "source": [
        "def search(nums, target):\n",
        "      low = 0\n",
        "      high = len(nums) - 1\n",
        "      while low <= high:\n",
        "        mid = (low + high)//2\n",
        "        print(f\"low: {low}, high: {high}, mid: {mid}\")\n",
        "        if target == nums[mid]:\n",
        "          return mid\n",
        "        elif target < nums[mid]:\n",
        "          high = mid - 1\n",
        "        elif target > nums[mid]:\n",
        "          low = mid + 1\n",
        "      return -1\n",
        "\n",
        "\n",
        "nums = [-1,0,3,5,9,12]\n",
        "target = 2\n",
        "print(search(nums, target))"
      ],
      "metadata": {
        "colab": {
          "base_uri": "https://localhost:8080/"
        },
        "id": "k9VMAivrsDVS",
        "outputId": "c8e2c98d-69a2-4311-dedd-25c526a4f889"
      },
      "execution_count": 11,
      "outputs": [
        {
          "output_type": "stream",
          "name": "stdout",
          "text": [
            "low: 0, high: 5, mid: 2\n",
            "low: 0, high: 1, mid: 0\n",
            "low: 1, high: 1, mid: 1\n",
            "-1\n"
          ]
        }
      ]
    }
  ],
  "metadata": {
    "colab": {
      "name": "Welcome To Colab",
      "toc_visible": true,
      "provenance": [],
      "include_colab_link": true
    },
    "kernelspec": {
      "display_name": "Python 3",
      "name": "python3"
    }
  },
  "nbformat": 4,
  "nbformat_minor": 0
}