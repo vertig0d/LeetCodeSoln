{
  "cells": [
    {
      "cell_type": "markdown",
      "metadata": {
        "id": "view-in-github",
        "colab_type": "text"
      },
      "source": [
        "<a href=\"https://colab.research.google.com/github/vertig0d/LeetCodeSoln/blob/master/121_BestTimeToBuySellStock.ipynb\" target=\"_parent\"><img src=\"https://colab.research.google.com/assets/colab-badge.svg\" alt=\"Open In Colab\"/></a>"
      ]
    },
    {
      "cell_type": "markdown",
      "source": [
        "You are given an array prices where prices[i] is the price of a given stock on the ith day.\n",
        "\n",
        "You want to maximize your profit by choosing a single day to buy one stock and choosing a different day in the future to sell that stock.\n",
        "\n",
        "Return the maximum profit you can achieve from this transaction. If you cannot achieve any profit, return 0.\n",
        "\n",
        "\n",
        "\n",
        "Example 1:\n",
        "\n",
        "Input: prices = [7,1,5,3,6,4]\n",
        "\n",
        "Output: 5\n",
        "\n",
        "Explanation: Buy on day 2 (price = 1) and sell on day 5 (price = 6), profit = 6-1 = 5.\n",
        "Note that buying on day 2 and selling on day 1 is not allowed because you must buy before you sell.\n",
        "Example 2:\n",
        "\n",
        "Input: prices = [7,6,4,3,1]\n",
        "\n",
        "Output: 0\n",
        "\n",
        "Explanation: In this case, no transactions are done and the max profit = 0.\n",
        "\n",
        "\n",
        "Constraints:\n",
        "\n",
        "1 <= prices.length <= 105\n",
        "0 <= prices[i] <= 104"
      ],
      "metadata": {
        "id": "lxfjL_rM49gF"
      }
    },
    {
      "cell_type": "markdown",
      "source": [
        "Pseudo code:\n",
        "1. function maxProfit will take i/p list\n",
        "2. create 3 variables : left, right, highVal with default value 0,1,0 respectively\n",
        "3. iterate while right is less than the length of i/p list\n",
        "4. check if\n",
        " i) left is greater than right, then update value of left with right (buy at low)\n",
        "\n",
        " ii) otherwise check if sum of left and right greater than highVal. if so replace the value."
      ],
      "metadata": {
        "id": "xtGL_nG-_Izb"
      }
    },
    {
      "cell_type": "code",
      "source": [
        "def maxProfit(prices):\n",
        "      left = 0\n",
        "      right = 1\n",
        "      highVal = 0\n",
        "      while right < len(prices):\n",
        "        if prices[left] > prices[right]:\n",
        "          left = right\n",
        "        else:\n",
        "          profit = prices[right] - prices[left]\n",
        "          if profit > highVal:\n",
        "            highVal = profit\n",
        "        right += 1\n",
        "      return highVal\n",
        "\n",
        "p1 = [7,1,5,3,6,4]\n",
        "print(maxProfit(p1))\n",
        "\n",
        "p2 = [7,6,4,3,1]\n",
        "print(maxProfit(p2))"
      ],
      "metadata": {
        "id": "gaJaVgm35I0n",
        "outputId": "559fced1-e831-46da-ec15-967e8167baa9",
        "colab": {
          "base_uri": "https://localhost:8080/"
        }
      },
      "execution_count": 7,
      "outputs": [
        {
          "output_type": "stream",
          "name": "stdout",
          "text": [
            "5\n",
            "0\n"
          ]
        }
      ]
    },
    {
      "cell_type": "code",
      "source": [],
      "metadata": {
        "id": "PIAWfivPP_lN"
      },
      "execution_count": null,
      "outputs": []
    }
  ],
  "metadata": {
    "colab": {
      "name": "Welcome To Colab",
      "toc_visible": true,
      "provenance": [],
      "include_colab_link": true
    },
    "kernelspec": {
      "display_name": "Python 3",
      "name": "python3"
    }
  },
  "nbformat": 4,
  "nbformat_minor": 0
}