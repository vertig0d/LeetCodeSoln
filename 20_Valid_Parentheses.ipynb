{
  "cells": [
    {
      "cell_type": "markdown",
      "metadata": {
        "id": "view-in-github",
        "colab_type": "text"
      },
      "source": [
        "<a href=\"https://colab.research.google.com/github/vertig0d/LeetCodeSoln/blob/master/20_Valid_Parentheses.ipynb\" target=\"_parent\"><img src=\"https://colab.research.google.com/assets/colab-badge.svg\" alt=\"Open In Colab\"/></a>"
      ]
    },
    {
      "cell_type": "markdown",
      "source": [
        "Given a string s containing just the characters '(', ')', '{', '}', '[' and ']', determine if the input string is valid.\n",
        "\n",
        "An input string is valid if:\n",
        "\n",
        "1. Open brackets must be closed by the same type of brackets.\n",
        "2. Open brackets must be closed in the correct order.\n",
        "3. Every close bracket has a corresponding open bracket of the same type.\n",
        "\n",
        "\n",
        "Example 1:\n",
        "\n",
        "Input: s = \"()\"\n",
        "\n",
        "Output: true\n",
        "\n",
        "Example 2:\n",
        "\n",
        "Input: s = \"()[]{}\"\n",
        "\n",
        "Output: true\n",
        "\n",
        "Example 3:\n",
        "\n",
        "Input: s = \"(]\"\n",
        "\n",
        "Output: false\n",
        "\n",
        "Example 4:\n",
        "\n",
        "Input: s = \"([])\"\n",
        "\n",
        "Output: true\n",
        "\n",
        "Example 5:\n",
        "\n",
        "Input: s = \"([)]\"\n",
        "\n",
        "Output: false\n",
        "\n",
        "\n",
        "\n",
        "Constraints:\n",
        "\n",
        "1 <= s.length <= 104\n",
        "s consists of parentheses only '()[]{}'."
      ],
      "metadata": {
        "id": "YqToKnCcyBEB"
      }
    },
    {
      "cell_type": "code",
      "source": [
        "def isValid(s):\n",
        "      parentheses = {')': '(', ']':'[', '}': '{'}\n",
        "      arr = []\n",
        "      for p in s:\n",
        "        #stack the open brackets\n",
        "        if p in parentheses.values():\n",
        "          arr.append(p)\n",
        "        elif p in parentheses:\n",
        "          if len(arr) == 0:\n",
        "            return False\n",
        "          else:\n",
        "            if arr.pop() != parentheses[p] :\n",
        "              return False\n",
        "      if len(arr) == 0:\n",
        "        return True\n",
        "      else:\n",
        "        return False\n",
        "\n",
        "s = \"([])\"\n",
        "print(isValid(s))\n",
        "\n",
        "s = \"]\"\n",
        "print(isValid(s))\n",
        "\n",
        "s = \"([)]\"\n",
        "print(isValid(s))"
      ],
      "metadata": {
        "id": "gQHcxzOgyIOc",
        "outputId": "807ce361-3b36-489b-9e57-8cf99e15425d",
        "colab": {
          "base_uri": "https://localhost:8080/"
        }
      },
      "execution_count": 24,
      "outputs": [
        {
          "output_type": "stream",
          "name": "stdout",
          "text": [
            "True\n",
            "False\n",
            "False\n"
          ]
        }
      ]
    }
  ],
  "metadata": {
    "colab": {
      "name": "Welcome To Colab",
      "toc_visible": true,
      "provenance": [],
      "include_colab_link": true
    },
    "kernelspec": {
      "display_name": "Python 3",
      "name": "python3"
    }
  },
  "nbformat": 4,
  "nbformat_minor": 0
}