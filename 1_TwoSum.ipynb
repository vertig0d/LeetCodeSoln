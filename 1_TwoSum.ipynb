{
  "nbformat": 4,
  "nbformat_minor": 0,
  "metadata": {
    "colab": {
      "provenance": [],
      "authorship_tag": "ABX9TyMQzi34TbTz1OOSIF0UF7bx",
      "include_colab_link": true
    },
    "kernelspec": {
      "name": "python3",
      "display_name": "Python 3"
    },
    "language_info": {
      "name": "python"
    }
  },
  "cells": [
    {
      "cell_type": "markdown",
      "metadata": {
        "id": "view-in-github",
        "colab_type": "text"
      },
      "source": [
        "<a href=\"https://colab.research.google.com/github/vertig0d/LeetCodeSoln/blob/master/1_TwoSum.ipynb\" target=\"_parent\"><img src=\"https://colab.research.google.com/assets/colab-badge.svg\" alt=\"Open In Colab\"/></a>"
      ]
    },
    {
      "cell_type": "markdown",
      "source": [
        "Given an array of integers nums and an integer target, return indices of the two numbers such that they add up to target. You may assume that each input would have exactly one solution, and you may not use the same element twice. You can return the answer in any order.\n",
        "\n",
        "Example 1:\n",
        "\n",
        "Input: nums = [2,7,11,15], target = 9 Output: [0,1] Explanation: Because nums[0] + nums[1] == 9, we return [0, 1]. Example 2:\n",
        "\n",
        "Input: nums = [3,2,4], target = 6 Output: [1,2] Example 3:\n",
        "\n",
        "Input: nums = [3,3], target = 6 Output: [0,1]\n",
        "\n",
        "Constraints:\n",
        "\n",
        "2 <= nums.length <= 10^4 -10^9 <= nums[i] <= 10^9 -10^9 <= target <= 10^9 Only one valid answer exists.\n",
        "\n",
        "Follow-up: Can you come up with an algorithm that is less than O(n2) time complexity?"
      ],
      "metadata": {
        "id": "PMDkHEo1xQBT"
      }
    },
    {
      "cell_type": "code",
      "execution_count": 1,
      "metadata": {
        "id": "uwD0nsf7BQqA",
        "outputId": "d5c97878-c944-4e60-ae8a-3ad8a64d76b0",
        "colab": {
          "base_uri": "https://localhost:8080/"
        }
      },
      "outputs": [
        {
          "output_type": "stream",
          "name": "stdout",
          "text": [
            "[0, 2]\n",
            "[1, 2]\n",
            "[]\n"
          ]
        }
      ],
      "source": [
        "def two_sum(nums, target):\n",
        "    a = []\n",
        "    tmp = nums[:]\n",
        "    begin = 1\n",
        "    while len(tmp) > 1:\n",
        "        for l in range(begin,len(nums)):\n",
        "            if (tmp[0] + nums[l]) == target:\n",
        "                a.append(nums.index(tmp[0]))\n",
        "                a.append(l)\n",
        "                return a\n",
        "        tmp.pop(0)\n",
        "        begin += 1\n",
        "    return a\n",
        "a = [3,2,3]\n",
        "print(two_sum(a, 6))\n",
        "b = [2,5,5,11]\n",
        "print(two_sum(b, 10))\n",
        "c = [1,2,3,4]\n",
        "print(two_sum(c, 11))"
      ]
    },
    {
      "cell_type": "code",
      "source": [
        "import unittest\n",
        "def test_two_sum():\n",
        "    assert two_sum([3,2,3], 6) == [0,2]\n",
        "    assert two_sum([2,5,5,11], 10) == [1,2]\n",
        "    assert two_sum([1,2,3,4], 8) == []\n",
        "\n",
        "test_two_sum()"
      ],
      "metadata": {
        "id": "MXPXn0T5xVZ_"
      },
      "execution_count": 3,
      "outputs": []
    },
    {
      "cell_type": "markdown",
      "source": [
        "## Hash Table Solution (using Dictionary)"
      ],
      "metadata": {
        "id": "PamPqw7XxnV0"
      }
    },
    {
      "cell_type": "code",
      "source": [
        "def two_sum_hash(nums, target):\n",
        "    dic = {}\n",
        "    for i, v in enumerate(nums):\n",
        "        diff = target - v\n",
        "        if diff in dic:\n",
        "            return [dic[diff], i]\n",
        "        else:\n",
        "            dic[v] = i"
      ],
      "metadata": {
        "id": "HTneJiduxZm3"
      },
      "execution_count": null,
      "outputs": []
    }
  ]
}