{
  "nbformat": 4,
  "nbformat_minor": 0,
  "metadata": {
    "colab": {
      "provenance": [],
      "authorship_tag": "ABX9TyNpXPwJ5YvsDAjTf9b0xl+j",
      "include_colab_link": true
    },
    "kernelspec": {
      "name": "python3",
      "display_name": "Python 3"
    },
    "language_info": {
      "name": "python"
    }
  },
  "cells": [
    {
      "cell_type": "markdown",
      "metadata": {
        "id": "view-in-github",
        "colab_type": "text"
      },
      "source": [
        "<a href=\"https://colab.research.google.com/github/vertig0d/LeetCodeSoln/blob/master/125_ValidPanindrome.ipynb\" target=\"_parent\"><img src=\"https://colab.research.google.com/assets/colab-badge.svg\" alt=\"Open In Colab\"/></a>"
      ]
    },
    {
      "cell_type": "markdown",
      "source": [
        "A phrase is a palindrome if, after converting all uppercase letters into lowercase letters and removing all non-alphanumeric characters, it reads the same forward and backward. Alphanumeric characters include letters and numbers.\n",
        "\n",
        "Given a string s, return true if it is a palindrome, or false otherwise.\n",
        "\n",
        "\n",
        "\n",
        "Example 1:\n",
        "\n",
        "Input: s = \"A man, a plan, a canal: Panama\"\n",
        "Output: true\n",
        "Explanation: \"amanaplanacanalpanama\" is a palindrome.\n",
        "Example 2:\n",
        "\n",
        "Input: s = \"race a car\"\n",
        "Output: false\n",
        "Explanation: \"raceacar\" is not a palindrome.\n",
        "Example 3:\n",
        "\n",
        "Input: s = \" \"\n",
        "Output: true\n",
        "Explanation: s is an empty string \"\" after removing non-alphanumeric characters.\n",
        "Since an empty string reads the same forward and backward, it is a palindrome.\n",
        "\n",
        "\n",
        "Constraints:\n",
        "\n",
        "1 <= s.length <= 2 * 10^5\n",
        "s consists only of printable ASCII characters."
      ],
      "metadata": {
        "id": "d5_yOUk-Nu0m"
      }
    },
    {
      "cell_type": "code",
      "execution_count": 10,
      "metadata": {
        "id": "uwD0nsf7BQqA",
        "outputId": "bb697b08-64ac-45ce-80de-159d19304280",
        "colab": {
          "base_uri": "https://localhost:8080/"
        }
      },
      "outputs": [
        {
          "output_type": "stream",
          "name": "stdout",
          "text": [
            "True\n",
            "False\n"
          ]
        }
      ],
      "source": [
        "def isPalindrome(s):\n",
        "  s_alpha = \"\".join(filter(str.isalnum, s)).lower()\n",
        "  return s_alpha[:] == s_alpha[::-1]\n",
        "\n",
        "s = \"A man, a plan, a canal: Panama\"\n",
        "print(isPalindrome(s))\n",
        "\n",
        "s = \"race a car\"\n",
        "print(isPalindrome(s))"
      ]
    },
    {
      "cell_type": "code",
      "source": [
        "def isPalindrome2(s):\n",
        "  s_alnum = [c.lower() for c in s if c.isalnum()]\n",
        "  return s_alnum[:] == s_alnum[::-1]\n",
        "\n",
        "s = \"A man, a plan, a canal: Panama\"\n",
        "print(isPalindrome2(s))\n",
        "\n",
        "s = \"race a car\"\n",
        "print(isPalindrome2(s))"
      ],
      "metadata": {
        "id": "_zKEzCNXTeDG",
        "outputId": "ce016419-02c8-412d-ade2-f15c0e6773bc",
        "colab": {
          "base_uri": "https://localhost:8080/"
        }
      },
      "execution_count": 29,
      "outputs": [
        {
          "output_type": "stream",
          "name": "stdout",
          "text": [
            "True\n",
            "False\n"
          ]
        }
      ]
    }
  ]
}